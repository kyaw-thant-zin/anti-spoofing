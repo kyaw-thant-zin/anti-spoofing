{
 "cells": [
  {
   "cell_type": "code",
   "execution_count": null,
   "metadata": {
    "_cell_guid": "b1076dfc-b9ad-4769-8c92-a6c4dae69d19",
    "_uuid": "8f2839f25d086af736a60e9eeb907d3b93b6e0e5",
    "execution": {
     "iopub.execute_input": "2021-05-26T13:48:54.032094Z",
     "iopub.status.busy": "2021-05-26T13:48:54.031182Z",
     "iopub.status.idle": "2021-05-26T13:48:54.034162Z",
     "shell.execute_reply": "2021-05-26T13:48:54.033635Z",
     "shell.execute_reply.started": "2021-05-26T13:27:00.710684Z"
    },
    "papermill": {
     "duration": 0.022983,
     "end_time": "2021-05-26T13:48:54.034264",
     "exception": false,
     "start_time": "2021-05-26T13:48:54.011281",
     "status": "completed"
    },
    "tags": []
   },
   "outputs": [],
   "source": [
    "import numpy as np # linear algebra\n",
    "import pandas as pd # data processing, CSV file I/O (e.g. pd.read_csv)"
   ]
  },
  {
   "cell_type": "code",
   "execution_count": null,
   "metadata": {
    "execution": {
     "iopub.execute_input": "2021-05-26T13:48:54.067621Z",
     "iopub.status.busy": "2021-05-26T13:48:54.066923Z",
     "iopub.status.idle": "2021-05-26T13:48:59.044273Z",
     "shell.execute_reply": "2021-05-26T13:48:59.043276Z",
     "shell.execute_reply.started": "2021-05-26T13:27:01.916976Z"
    },
    "papermill": {
     "duration": 4.996267,
     "end_time": "2021-05-26T13:48:59.044394",
     "exception": false,
     "start_time": "2021-05-26T13:48:54.048127",
     "status": "completed"
    },
    "tags": []
   },
   "outputs": [],
   "source": [
    "import os\n",
    "import cv2\n",
    "import pickle\n",
    "import matplotlib.pyplot as plt\n",
    "import random\n",
    "from random import shuffle\n",
    "from tqdm import tqdm\n",
    "import tensorflow as tf\n",
    "from tensorflow import keras\n",
    "from tensorflow.keras.models import Sequential\n",
    "from tensorflow.keras.layers import Dense, Dropout,Activation,Flatten, Conv2D, MaxPooling2D,BatchNormalization\n"
   ]
  },
  {
   "cell_type": "code",
   "execution_count": null,
   "metadata": {
    "_cell_guid": "79c7e3d0-c299-4dcb-8224-4455121ee9b0",
    "_uuid": "d629ff2d2480ee46fbb7e2d37f6b5fab8052498a",
    "execution": {
     "iopub.execute_input": "2021-05-26T13:48:59.077936Z",
     "iopub.status.busy": "2021-05-26T13:48:59.077404Z",
     "iopub.status.idle": "2021-05-26T13:48:59.767925Z",
     "shell.execute_reply": "2021-05-26T13:48:59.767389Z",
     "shell.execute_reply.started": "2021-05-26T13:27:13.074906Z"
    },
    "papermill": {
     "duration": 0.708558,
     "end_time": "2021-05-26T13:48:59.768032",
     "exception": false,
     "start_time": "2021-05-26T13:48:59.059474",
     "status": "completed"
    },
    "tags": []
   },
   "outputs": [],
   "source": [
    "#renaming real and fake directories\n",
    "real = \"train/real/\"\n",
    "fake = \"train/fake/\"\n",
    "#we're creating a list of real and fake images\n",
    "real_path = os.listdir(real)\n",
    "fake_path = os.listdir(fake)"
   ]
  },
  {
   "cell_type": "code",
   "execution_count": null,
   "metadata": {
    "execution": {
     "iopub.execute_input": "2021-05-26T13:48:59.799750Z",
     "iopub.status.busy": "2021-05-26T13:48:59.799177Z",
     "iopub.status.idle": "2021-05-26T13:48:59.802287Z",
     "shell.execute_reply": "2021-05-26T13:48:59.803012Z",
     "shell.execute_reply.started": "2021-05-26T13:27:16.362565Z"
    },
    "papermill": {
     "duration": 0.021498,
     "end_time": "2021-05-26T13:48:59.803154",
     "exception": false,
     "start_time": "2021-05-26T13:48:59.781656",
     "status": "completed"
    },
    "tags": []
   },
   "outputs": [],
   "source": [
    "print(len(real_path))\n",
    "print(len(fake_path))"
   ]
  },
  {
   "cell_type": "code",
   "execution_count": null,
   "metadata": {
    "execution": {
     "iopub.execute_input": "2021-05-26T13:48:59.835975Z",
     "iopub.status.busy": "2021-05-26T13:48:59.835195Z",
     "iopub.status.idle": "2021-05-26T13:48:59.838049Z",
     "shell.execute_reply": "2021-05-26T13:48:59.837605Z",
     "shell.execute_reply.started": "2021-05-26T13:27:18.019345Z"
    },
    "papermill": {
     "duration": 0.019776,
     "end_time": "2021-05-26T13:48:59.838143",
     "exception": false,
     "start_time": "2021-05-26T13:48:59.818367",
     "status": "completed"
    },
    "tags": []
   },
   "outputs": [],
   "source": [
    "#creating training data with label for both genuine and fake images together\n",
    "#we want to one hot encode our label such that it is in the following format\n",
    "# [1] = genuine; \n",
    "# [0] = fake\n"
   ]
  },
  {
   "cell_type": "code",
   "execution_count": null,
   "metadata": {
    "execution": {
     "iopub.execute_input": "2021-05-26T13:48:59.869579Z",
     "iopub.status.busy": "2021-05-26T13:48:59.869065Z",
     "iopub.status.idle": "2021-05-26T13:49:00.129338Z",
     "shell.execute_reply": "2021-05-26T13:49:00.129764Z",
     "shell.execute_reply.started": "2021-05-26T13:27:19.404838Z"
    },
    "papermill": {
     "duration": 0.278294,
     "end_time": "2021-05-26T13:49:00.129903",
     "exception": false,
     "start_time": "2021-05-26T13:48:59.851609",
     "status": "completed"
    },
    "tags": []
   },
   "outputs": [],
   "source": [
    "\n",
    "plt.imshow(cv2.imread(os.path.join(real, real_path[0])))"
   ]
  },
  {
   "cell_type": "code",
   "execution_count": null,
   "metadata": {
    "execution": {
     "iopub.execute_input": "2021-05-26T13:49:00.175597Z",
     "iopub.status.busy": "2021-05-26T13:49:00.174846Z",
     "iopub.status.idle": "2021-05-26T13:49:38.647071Z",
     "shell.execute_reply": "2021-05-26T13:49:38.646266Z",
     "shell.execute_reply.started": "2021-05-26T13:43:26.808323Z"
    },
    "papermill": {
     "duration": 38.501235,
     "end_time": "2021-05-26T13:49:38.647176",
     "exception": false,
     "start_time": "2021-05-26T13:49:00.145941",
     "status": "completed"
    },
    "tags": []
   },
   "outputs": [],
   "source": [
    "   \n",
    "img_size = int(128)\n",
    "def create_training_data():\n",
    "    training_data = []\n",
    "    y=[]\n",
    "    for img in tqdm(real_path[:981]):\n",
    "        path = os.path.join(real, img)\n",
    "#         label = [1] \n",
    "        image = cv2.resize( cv2.imread(path), (img_size,img_size) )\n",
    "        training_data.append(np.array(image))\n",
    "        y.append(1)\n",
    "        \n",
    "    for img in tqdm(fake_path[:860]):\n",
    "        path = os.path.join(fake, img)\n",
    "#         label = [0] \n",
    "        image = cv2.resize(cv2.imread(path), (img_size,img_size))\n",
    "        training_data.append(np.array(image))  \n",
    "        y.append(0)\n",
    "        \n",
    "    return(training_data,y)\n",
    "\n",
    "def create_test_data():\n",
    "    test_data = []\n",
    "    output_data=[]\n",
    "    for img in tqdm(real_path[981:]):\n",
    "        path = os.path.join(real, img)\n",
    "        image = cv2.resize( cv2.imread(path), (img_size,img_size) )\n",
    "        \n",
    "        test_data.append(np.array(image))\n",
    "        output_data.append(1)\n",
    "        \n",
    "    for img in tqdm(fake_path[860:]):\n",
    "        path = os.path.join(fake, img)\n",
    "        image = cv2.resize(cv2.imread(path), (img_size,img_size))\n",
    "        \n",
    "        test_data.append(np.array(image))\n",
    "        output_data.append(0)\n",
    "\n",
    "    return(test_data,output_data)\n",
    "\n",
    "    \n",
    "\n",
    "X_train,Y_train = create_training_data()\n",
    "X_test,Y_test= create_test_data()\n",
    "\n",
    "\n"
   ]
  },
  {
   "cell_type": "code",
   "execution_count": null,
   "metadata": {
    "execution": {
     "iopub.execute_input": "2021-05-26T13:49:38.873823Z",
     "iopub.status.busy": "2021-05-26T13:49:38.873295Z",
     "iopub.status.idle": "2021-05-26T13:49:38.877313Z",
     "shell.execute_reply": "2021-05-26T13:49:38.876656Z",
     "shell.execute_reply.started": "2021-05-26T13:43:51.919899Z"
    },
    "papermill": {
     "duration": 0.119721,
     "end_time": "2021-05-26T13:49:38.877418",
     "exception": false,
     "start_time": "2021-05-26T13:49:38.757697",
     "status": "completed"
    },
    "tags": []
   },
   "outputs": [],
   "source": [
    "l=list(zip(X_train,Y_train))\n",
    "shuffle(l)\n",
    "X_train,Y_train=zip(*l)"
   ]
  },
  {
   "cell_type": "code",
   "execution_count": null,
   "metadata": {
    "execution": {
     "iopub.execute_input": "2021-05-26T13:49:39.102348Z",
     "iopub.status.busy": "2021-05-26T13:49:39.101521Z",
     "iopub.status.idle": "2021-05-26T13:49:39.384574Z",
     "shell.execute_reply": "2021-05-26T13:49:39.384110Z",
     "shell.execute_reply.started": "2021-05-26T13:43:53.307807Z"
    },
    "papermill": {
     "duration": 0.397912,
     "end_time": "2021-05-26T13:49:39.384680",
     "exception": false,
     "start_time": "2021-05-26T13:49:38.986768",
     "status": "completed"
    },
    "tags": []
   },
   "outputs": [],
   "source": [
    "\n",
    "# print(X[0].reshape(-1, 50, 50, 1))\n",
    "X_train = np.array(X_train)\n",
    "\n",
    "#divide by 255 to squish values to 0 - 1 normalization\n",
    "X_train = X_train/255.0\n",
    "Y_train=np.array(Y_train)\n",
    "\n",
    "\n",
    "X_test = np.array(X_test)\n",
    "\n",
    "#divide by 255 to squish values to 0 - 1 normalization\n",
    "X_test = X_test/255.0\n",
    "Y_test=np.array(Y_test)\n"
   ]
  },
  {
   "cell_type": "code",
   "execution_count": null,
   "metadata": {
    "execution": {
     "iopub.execute_input": "2021-05-26T13:49:39.611938Z",
     "iopub.status.busy": "2021-05-26T13:49:39.611335Z",
     "iopub.status.idle": "2021-05-26T13:49:39.615938Z",
     "shell.execute_reply": "2021-05-26T13:49:39.615459Z",
     "shell.execute_reply.started": "2021-05-26T13:43:55.167075Z"
    },
    "papermill": {
     "duration": 0.120136,
     "end_time": "2021-05-26T13:49:39.616041",
     "exception": false,
     "start_time": "2021-05-26T13:49:39.495905",
     "status": "completed"
    },
    "tags": []
   },
   "outputs": [],
   "source": [
    "print(X_train.shape[1:])\n",
    "print(X_train.shape[:])\n",
    "#checking shape of array to confirm\n",
    "# print(len(y))"
   ]
  },
  {
   "cell_type": "code",
   "execution_count": null,
   "metadata": {
    "execution": {
     "iopub.execute_input": "2021-05-26T13:49:39.846351Z",
     "iopub.status.busy": "2021-05-26T13:49:39.845199Z",
     "iopub.status.idle": "2021-05-26T13:49:39.848831Z",
     "shell.execute_reply": "2021-05-26T13:49:39.849257Z",
     "shell.execute_reply.started": "2021-05-26T13:43:56.290528Z"
    },
    "papermill": {
     "duration": 0.122345,
     "end_time": "2021-05-26T13:49:39.849367",
     "exception": false,
     "start_time": "2021-05-26T13:49:39.727022",
     "status": "completed"
    },
    "tags": []
   },
   "outputs": [],
   "source": [
    "X_train[1]"
   ]
  },
  {
   "cell_type": "code",
   "execution_count": null,
   "metadata": {
    "execution": {
     "iopub.execute_input": "2021-05-26T13:49:40.086736Z",
     "iopub.status.busy": "2021-05-26T13:49:40.085151Z",
     "iopub.status.idle": "2021-05-26T13:49:40.089393Z",
     "shell.execute_reply": "2021-05-26T13:49:40.088953Z",
     "shell.execute_reply.started": "2021-05-26T13:43:57.622152Z"
    },
    "papermill": {
     "duration": 0.126722,
     "end_time": "2021-05-26T13:49:40.089492",
     "exception": false,
     "start_time": "2021-05-26T13:49:39.962770",
     "status": "completed"
    },
    "tags": []
   },
   "outputs": [],
   "source": [
    "df=pd.DataFrame(Y_train)\n",
    "df[0].value_counts()"
   ]
  },
  {
   "cell_type": "code",
   "execution_count": null,
   "metadata": {
    "execution": {
     "iopub.execute_input": "2021-05-26T13:49:40.326234Z",
     "iopub.status.busy": "2021-05-26T13:49:40.319730Z",
     "iopub.status.idle": "2021-05-26T13:49:40.482788Z",
     "shell.execute_reply": "2021-05-26T13:49:40.483216Z",
     "shell.execute_reply.started": "2021-05-26T13:43:58.882311Z"
    },
    "papermill": {
     "duration": 0.281305,
     "end_time": "2021-05-26T13:49:40.483366",
     "exception": false,
     "start_time": "2021-05-26T13:49:40.202061",
     "status": "completed"
    },
    "tags": []
   },
   "outputs": [],
   "source": [
    "plt.imshow(X_train[1])\n",
    "X_train[1].shape\n"
   ]
  },
  {
   "cell_type": "code",
   "execution_count": null,
   "metadata": {
    "execution": {
     "iopub.execute_input": "2021-05-26T13:49:40.727555Z",
     "iopub.status.busy": "2021-05-26T13:49:40.726905Z",
     "iopub.status.idle": "2021-05-26T13:49:43.068354Z",
     "shell.execute_reply": "2021-05-26T13:49:43.067546Z",
     "shell.execute_reply.started": "2021-05-26T13:44:01.798717Z"
    },
    "papermill": {
     "duration": 2.468491,
     "end_time": "2021-05-26T13:49:43.068471",
     "exception": false,
     "start_time": "2021-05-26T13:49:40.599980",
     "status": "completed"
    },
    "tags": []
   },
   "outputs": [],
   "source": [
    "#let us make the model\n",
    "\n",
    "model = Sequential()\n",
    "\n",
    "model.add(Conv2D(64,(3,3), input_shape=X_train.shape[1:])) \n",
    "model.add(MaxPooling2D(pool_size=(2,2)))\n",
    "model.add(Activation(\"relu\")) \n",
    "\n",
    "model.add(Conv2D(32,(3,3)))  \n",
    "model.add(MaxPooling2D(pool_size=(2,2)))\n",
    "model.add(Activation(\"relu\"))\n",
    "\n",
    "model.add(Conv2D(16,(3,3))) \n",
    "model.add(MaxPooling2D(pool_size=(2,2)))\n",
    "model.add(Activation(\"relu\"))\n",
    "\n",
    "\n",
    "\n",
    "model.add(Flatten()) \n",
    "\n",
    "model.add(Dense(128,kernel_regularizer=\"l2\"))\n",
    "model.add(Activation(\"relu\",))\n",
    "model.add(Dropout(0.12))\n",
    "\n",
    "\n",
    "model.add(Dense(1)) \n",
    "model.add(Activation(\"sigmoid\"))\n",
    "\n",
    "\n",
    "opt = keras.optimizers.Adam(learning_rate=0.001)\n",
    "\n",
    "model.compile(loss = \"binary_crossentropy\", optimizer =opt, metrics = ['accuracy'])\n",
    "\n",
    "\n"
   ]
  },
  {
   "cell_type": "code",
   "execution_count": null,
   "metadata": {
    "execution": {
     "iopub.execute_input": "2021-05-26T13:49:43.307551Z",
     "iopub.status.busy": "2021-05-26T13:49:43.306919Z",
     "iopub.status.idle": "2021-05-26T13:49:56.336405Z",
     "shell.execute_reply": "2021-05-26T13:49:56.335974Z",
     "shell.execute_reply.started": "2021-05-26T13:44:03.123336Z"
    },
    "papermill": {
     "duration": 13.152342,
     "end_time": "2021-05-26T13:49:56.336511",
     "exception": false,
     "start_time": "2021-05-26T13:49:43.184169",
     "status": "completed"
    },
    "tags": []
   },
   "outputs": [],
   "source": [
    "history=model.fit(X_train,Y_train, batch_size = 64, epochs = 15, validation_split = 0.2)\n",
    "plt.plot(history.history['accuracy'])\n",
    "plt.plot(history.history['val_accuracy'])\n",
    "plt.title('model accuracy')\n",
    "plt.ylabel('accuracy')\n",
    "plt.xlabel('epoch')\n",
    "plt.legend(['train', 'val'], loc='upper left')\n",
    "plt.show()"
   ]
  },
  {
   "cell_type": "code",
   "execution_count": null,
   "metadata": {
    "execution": {
     "iopub.execute_input": "2021-05-26T13:49:56.657397Z",
     "iopub.status.busy": "2021-05-26T13:49:56.656370Z",
     "iopub.status.idle": "2021-05-26T13:49:56.834172Z",
     "shell.execute_reply": "2021-05-26T13:49:56.834596Z",
     "shell.execute_reply.started": "2021-05-26T13:44:50.888484Z"
    },
    "papermill": {
     "duration": 0.341927,
     "end_time": "2021-05-26T13:49:56.834728",
     "exception": false,
     "start_time": "2021-05-26T13:49:56.492801",
     "status": "completed"
    },
    "tags": []
   },
   "outputs": [],
   "source": [
    "model.evaluate(X_test,Y_test)"
   ]
  },
  {
   "cell_type": "code",
   "execution_count": null,
   "metadata": {
    "execution": {
     "iopub.execute_input": "2021-05-26T13:49:57.155552Z",
     "iopub.status.busy": "2021-05-26T13:49:57.152595Z",
     "iopub.status.idle": "2021-05-26T13:49:58.555423Z",
     "shell.execute_reply": "2021-05-26T13:49:58.554363Z",
     "shell.execute_reply.started": "2021-05-26T13:44:54.233105Z"
    },
    "papermill": {
     "duration": 1.563672,
     "end_time": "2021-05-26T13:49:58.555580",
     "exception": false,
     "start_time": "2021-05-26T13:49:56.991908",
     "status": "completed"
    },
    "tags": []
   },
   "outputs": [],
   "source": [
    "model.save('my_finalised_cnn', save_format='tf')"
   ]
  },
  {
   "cell_type": "code",
   "execution_count": null,
   "metadata": {
    "execution": {
     "iopub.execute_input": "2021-05-26T13:49:58.871042Z",
     "iopub.status.busy": "2021-05-26T13:49:58.870232Z",
     "iopub.status.idle": "2021-05-26T13:49:59.434698Z",
     "shell.execute_reply": "2021-05-26T13:49:59.435329Z",
     "shell.execute_reply.started": "2021-05-26T13:44:57.056006Z"
    },
    "papermill": {
     "duration": 0.724335,
     "end_time": "2021-05-26T13:49:59.435504",
     "exception": false,
     "start_time": "2021-05-26T13:49:58.711169",
     "status": "completed"
    },
    "tags": []
   },
   "outputs": [],
   "source": [
    "trained_model = keras.models.load_model('my_finalised_cnn') \n",
    "print (trained_model.summary())"
   ]
  },
  {
   "cell_type": "code",
   "execution_count": null,
   "metadata": {
    "execution": {
     "iopub.execute_input": "2021-05-26T13:49:59.757404Z",
     "iopub.status.busy": "2021-05-26T13:49:59.756681Z",
     "iopub.status.idle": "2021-05-26T13:50:00.463686Z",
     "shell.execute_reply": "2021-05-26T13:50:00.462907Z",
     "shell.execute_reply.started": "2021-05-26T13:44:58.798807Z"
    },
    "papermill": {
     "duration": 0.866907,
     "end_time": "2021-05-26T13:50:00.463791",
     "exception": false,
     "start_time": "2021-05-26T13:49:59.596884",
     "status": "completed"
    },
    "tags": []
   },
   "outputs": [],
   "source": [
    "from keras.utils.vis_utils import model_to_dot\n",
    "from IPython.display import SVG\n",
    "SVG(model_to_dot(model).create(prog=\"dot\",format=\"svg\"))"
   ]
  },
  {
   "cell_type": "code",
   "execution_count": null,
   "metadata": {
    "papermill": {
     "duration": 0.155454,
     "end_time": "2021-05-26T13:50:00.776995",
     "exception": false,
     "start_time": "2021-05-26T13:50:00.621541",
     "status": "completed"
    },
    "tags": []
   },
   "outputs": [],
   "source": []
  }
 ],
 "metadata": {
  "kernelspec": {
   "display_name": "Python 3",
   "language": "python",
   "name": "python3"
  },
  "language_info": {
   "codemirror_mode": {
    "name": "ipython",
    "version": 3
   },
   "file_extension": ".py",
   "mimetype": "text/x-python",
   "name": "python",
   "nbconvert_exporter": "python",
   "pygments_lexer": "ipython3",
   "version": "3.11.4"
  },
  "papermill": {
   "duration": 71.778567,
   "end_time": "2021-05-26T13:50:02.126102",
   "environment_variables": {},
   "exception": null,
   "input_path": "__notebook__.ipynb",
   "output_path": "__notebook__.ipynb",
   "parameters": {},
   "start_time": "2021-05-26T13:48:50.347535",
   "version": "2.1.0"
  }
 },
 "nbformat": 4,
 "nbformat_minor": 4
}
